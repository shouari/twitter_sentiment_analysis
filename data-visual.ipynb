{
 "cells": [
  {
   "cell_type": "code",
   "execution_count": 20,
   "metadata": {},
   "outputs": [],
   "source": [
    "import pandas as pd\n",
    "from collections import OrderedDict, defaultdict"
   ]
  },
  {
   "cell_type": "code",
   "execution_count": 3,
   "metadata": {},
   "outputs": [
    {
     "data": {
      "text/html": [
       "<div>\n",
       "<style scoped>\n",
       "    .dataframe tbody tr th:only-of-type {\n",
       "        vertical-align: middle;\n",
       "    }\n",
       "\n",
       "    .dataframe tbody tr th {\n",
       "        vertical-align: top;\n",
       "    }\n",
       "\n",
       "    .dataframe thead th {\n",
       "        text-align: right;\n",
       "    }\n",
       "</style>\n",
       "<table border=\"1\" class=\"dataframe\">\n",
       "  <thead>\n",
       "    <tr style=\"text-align: right;\">\n",
       "      <th></th>\n",
       "      <th></th>\n",
       "      <th>id</th>\n",
       "      <th>date</th>\n",
       "      <th>username</th>\n",
       "      <th>name</th>\n",
       "      <th>tweet</th>\n",
       "      <th>language</th>\n",
       "      <th>sentiment</th>\n",
       "      <th>positive_score</th>\n",
       "      <th>negative_score</th>\n",
       "      <th>neutral_score</th>\n",
       "      <th>mixed_score</th>\n",
       "    </tr>\n",
       "  </thead>\n",
       "  <tbody>\n",
       "    <tr>\n",
       "      <th>0</th>\n",
       "      <th>0</th>\n",
       "      <td>1374611085257478144</td>\n",
       "      <td>2021-03-24</td>\n",
       "      <td>centarawestbay</td>\n",
       "      <td>CentaraWestBay</td>\n",
       "      <td>What a great lunch break with Bondi Burgers, c...</td>\n",
       "      <td>en</td>\n",
       "      <td>POSITIVE</td>\n",
       "      <td>0.866417</td>\n",
       "      <td>0.000228</td>\n",
       "      <td>0.133275</td>\n",
       "      <td>0.000080</td>\n",
       "    </tr>\n",
       "    <tr>\n",
       "      <th>1</th>\n",
       "      <th>2</th>\n",
       "      <td>1374359069356605446</td>\n",
       "      <td>2021-03-23</td>\n",
       "      <td>shekaaaa81</td>\n",
       "      <td>shekaaaa81🇶🇦🇶🇦🇶🇦🇶🇦</td>\n",
       "      <td>@khalidalnshera @GoRafeeq أضم صوتي لصوتك خدمته...</td>\n",
       "      <td>ar</td>\n",
       "      <td>NEGATIVE</td>\n",
       "      <td>0.004109</td>\n",
       "      <td>0.767130</td>\n",
       "      <td>0.228569</td>\n",
       "      <td>0.000192</td>\n",
       "    </tr>\n",
       "    <tr>\n",
       "      <th>2</th>\n",
       "      <th>3</th>\n",
       "      <td>1374358474377814016</td>\n",
       "      <td>2021-03-23</td>\n",
       "      <td>shekaaaa81</td>\n",
       "      <td>shekaaaa81🇶🇦🇶🇦🇶🇦🇶🇦</td>\n",
       "      <td>@GoRafeeq الخدمه بطيئه للأسف</td>\n",
       "      <td>ar</td>\n",
       "      <td>NEGATIVE</td>\n",
       "      <td>0.000089</td>\n",
       "      <td>0.997244</td>\n",
       "      <td>0.002263</td>\n",
       "      <td>0.000404</td>\n",
       "    </tr>\n",
       "    <tr>\n",
       "      <th>3</th>\n",
       "      <th>4</th>\n",
       "      <td>1374354306464366596</td>\n",
       "      <td>2021-03-23</td>\n",
       "      <td>jaberalmarriq8</td>\n",
       "      <td>جابر المري</td>\n",
       "      <td>لو كنت مسؤولاً كبيراً  في إدارة المرور لأعدت ف...</td>\n",
       "      <td>ar</td>\n",
       "      <td>NEGATIVE</td>\n",
       "      <td>0.003307</td>\n",
       "      <td>0.678453</td>\n",
       "      <td>0.318202</td>\n",
       "      <td>0.000038</td>\n",
       "    </tr>\n",
       "    <tr>\n",
       "      <th>4</th>\n",
       "      <th>9</th>\n",
       "      <td>1374077326405861377</td>\n",
       "      <td>2021-03-22</td>\n",
       "      <td>q_love15</td>\n",
       "      <td>ســنـــيار قـــطــر .. المعالى كايده</td>\n",
       "      <td>@GoRafeeq هذا والمطعم بينه وبين بيتي اقل من 5د...</td>\n",
       "      <td>ar</td>\n",
       "      <td>NEUTRAL</td>\n",
       "      <td>0.093654</td>\n",
       "      <td>0.011499</td>\n",
       "      <td>0.894828</td>\n",
       "      <td>0.000019</td>\n",
       "    </tr>\n",
       "  </tbody>\n",
       "</table>\n",
       "</div>"
      ],
      "text/plain": [
       "                      id        date        username  \\\n",
       "0 0  1374611085257478144  2021-03-24  centarawestbay   \n",
       "1 2  1374359069356605446  2021-03-23      shekaaaa81   \n",
       "2 3  1374358474377814016  2021-03-23      shekaaaa81   \n",
       "3 4  1374354306464366596  2021-03-23  jaberalmarriq8   \n",
       "4 9  1374077326405861377  2021-03-22        q_love15   \n",
       "\n",
       "                                     name  \\\n",
       "0 0                        CentaraWestBay   \n",
       "1 2                    shekaaaa81🇶🇦🇶🇦🇶🇦🇶🇦   \n",
       "2 3                    shekaaaa81🇶🇦🇶🇦🇶🇦🇶🇦   \n",
       "3 4                            جابر المري   \n",
       "4 9  ســنـــيار قـــطــر .. المعالى كايده   \n",
       "\n",
       "                                                 tweet language sentiment  \\\n",
       "0 0  What a great lunch break with Bondi Burgers, c...       en  POSITIVE   \n",
       "1 2  @khalidalnshera @GoRafeeq أضم صوتي لصوتك خدمته...       ar  NEGATIVE   \n",
       "2 3                       @GoRafeeq الخدمه بطيئه للأسف       ar  NEGATIVE   \n",
       "3 4  لو كنت مسؤولاً كبيراً  في إدارة المرور لأعدت ف...       ar  NEGATIVE   \n",
       "4 9  @GoRafeeq هذا والمطعم بينه وبين بيتي اقل من 5د...       ar   NEUTRAL   \n",
       "\n",
       "     positive_score  negative_score  neutral_score  mixed_score  \n",
       "0 0        0.866417        0.000228       0.133275     0.000080  \n",
       "1 2        0.004109        0.767130       0.228569     0.000192  \n",
       "2 3        0.000089        0.997244       0.002263     0.000404  \n",
       "3 4        0.003307        0.678453       0.318202     0.000038  \n",
       "4 9        0.093654        0.011499       0.894828     0.000019  "
      ]
     },
     "execution_count": 3,
     "metadata": {},
     "output_type": "execute_result"
    }
   ],
   "source": [
    "df_rafeeq = pd.read_csv('tweets_with_sentiments_GoRafeeq.csv')\n",
    "df_talabat =pd.read_csv('tweets_with_sentiments_Talabat.csv')\n",
    "df_snoonu =pd.read_csv('tweets_with_sentiments_snoonu_qa.csv')\n",
    "df_rafeeq.head(5)"
   ]
  },
  {
   "cell_type": "code",
   "execution_count": 23,
   "metadata": {},
   "outputs": [
    {
     "name": "stdout",
     "output_type": "stream",
     "text": [
      "{('NEUTRAL',): 970, ('NEGATIVE',): 460, ('POSITIVE',): 256, ('MIXED',): 25}\n"
     ]
    }
   ],
   "source": [
    "df_rafeeq = df_rafeeq[['id','tweet', 'sentiment']]\n",
    "\n",
    "df_rafeeq=df_rafeeq.reset_index()\n",
    "result = df_rafeeq[['sentiment']].value_counts()\n",
    "dict_results = result.to_dict()\n",
    "\n",
    "print(dict_results)"
   ]
  },
  {
   "cell_type": "code",
   "execution_count": 29,
   "metadata": {},
   "outputs": [
    {
     "name": "stdout",
     "output_type": "stream",
     "text": [
      "NEUTRAL 970\n",
      "NEGATIVE 460\n",
      "POSITIVE 256\n",
      "MIXED 25\n"
     ]
    }
   ],
   "source": [
    "for i in dict_results:\n",
    "    print(i[0],dict_results[i])\n",
    "    "
   ]
  }
 ],
 "metadata": {
  "kernelspec": {
   "display_name": "Python 3",
   "language": "python",
   "name": "python3"
  },
  "language_info": {
   "codemirror_mode": {
    "name": "ipython",
    "version": 3
   },
   "file_extension": ".py",
   "mimetype": "text/x-python",
   "name": "python",
   "nbconvert_exporter": "python",
   "pygments_lexer": "ipython3",
   "version": "3.8.5"
  }
 },
 "nbformat": 4,
 "nbformat_minor": 4
}
